{
 "cells": [
  {
   "cell_type": "markdown",
   "metadata": {},
   "source": [
    "# HW2\n",
    "## İrem Şahin"
   ]
  },
  {
   "cell_type": "code",
   "execution_count": 1,
   "metadata": {},
   "outputs": [],
   "source": [
    "import matplotlib.pyplot as plt\n",
    "import numpy as np\n",
    "import pandas as pd\n",
    "\n",
    "def safelog(x):\n",
    "    return(np.log(x + 1e-100))"
   ]
  },
  {
   "cell_type": "markdown",
   "metadata": {},
   "source": [
    "## Parameters"
   ]
  },
  {
   "cell_type": "code",
   "execution_count": 2,
   "metadata": {},
   "outputs": [],
   "source": [
    "eta = 0.01\n",
    "epsilon = 1e-3\n"
   ]
  },
  {
   "cell_type": "markdown",
   "metadata": {},
   "source": [
    "## Importing Data"
   ]
  },
  {
   "cell_type": "code",
   "execution_count": 3,
   "metadata": {},
   "outputs": [],
   "source": [
    "# read data into memory\n",
    "data_set = np.genfromtxt(\"hw02_data_set_images.csv\", delimiter = \",\")\n",
    "labels = (np.genfromtxt(\"hw02_data_set_labels.csv\", delimiter=\",\", dtype=str)).astype(str)\n",
    "\n",
    "\n",
    "# get number of classes and number of samples\n",
    "classes = np.unique(labels)\n",
    "K = len(classes)\n",
    "N = data_set.shape[0]\n",
    "\n",
    "# turn the ABCDE into 01234 to use it easier\n",
    "for i in range(N):\n",
    "    result = np.argwhere(classes==labels[i])\n",
    "    labels[i]=result[0][0]\n",
    "labels= labels.astype(np.int)\n",
    "\n",
    "# put first 25 points into training arrays and rest of the 14 points to test arrays\n",
    "train=[]\n",
    "test=[]\n",
    "train_truth=[]\n",
    "test_truth=[]\n",
    "for i in range(K):\n",
    "    for j in range(25):\n",
    "        train.append(data_set[j+ 39*i])\n",
    "        train_truth.append(labels[j+ 39*i])\n",
    "    for k in range(14):\n",
    "        test.append(data_set[14 +k+ 39*i])\n",
    "        test_truth.append(labels[14 +k+ 39*i])\n",
    "train=np.array(train)\n",
    "test=np.array(test)\n",
    "train_truth=np.array(train_truth)\n",
    "test_truth=np.array(test_truth)\n",
    "\n",
    "\n",
    "# one-hot encoding\n",
    "Train_truth = np.zeros((len(train), K)).astype(int)\n",
    "for i in range(len(train)):\n",
    "    Train_truth[i][train_truth[i]]=1"
   ]
  },
  {
   "cell_type": "markdown",
   "metadata": {},
   "source": [
    "## Define Functions"
   ]
  },
  {
   "cell_type": "code",
   "execution_count": 4,
   "metadata": {},
   "outputs": [],
   "source": [
    "# define the sigmoid function\n",
    "def sigmoid(X, w, w0):\n",
    "    return(1 / (1 + np.exp(-(np.matmul( w.T, X.T) + w0.T))))"
   ]
  },
  {
   "cell_type": "code",
   "execution_count": 5,
   "metadata": {},
   "outputs": [],
   "source": [
    "# define the gradient functions\n",
    "def gradient_W(X, y_truth, y_predicted):\n",
    "    return(np.asarray([-np.sum(np.repeat((y_truth[:,c] -y_predicted[:,c])[:, None], X.shape[1], axis = 1) * X, axis = 0) for c in range(K)]).transpose())\n",
    "\n",
    "def gradient_w0(Y_truth, Y_predicted):\n",
    "    return(-np.sum(Y_truth - Y_predicted, axis = 0))"
   ]
  },
  {
   "cell_type": "code",
   "execution_count": 6,
   "metadata": {},
   "outputs": [],
   "source": [
    "# randomly initalize w and w0\n",
    "np.random.seed(421)\n",
    "w = np.random.uniform(low = -0.01, high = 0.01, size = (train.shape[1],K))\n",
    "w0 = np.random.uniform(low = -0.01, high = 0.01, size = (1,K))"
   ]
  },
  {
   "cell_type": "code",
   "execution_count": 7,
   "metadata": {},
   "outputs": [
    {
     "name": "stdout",
     "output_type": "stream",
     "text": [
      "1493\n"
     ]
    }
   ],
   "source": [
    "# learn w and w0 using gradient descent\n",
    "iteration = 1\n",
    "objective_values = []\n",
    "while 1:\n",
    "    train_predicted = sigmoid(train, w, w0)\n",
    "    objective_values = np.append(objective_values,0.5*np.sum((Train_truth-train_predicted.T)**2))\n",
    "    \n",
    "    w_old = w\n",
    "    w0_old = w0\n",
    "\n",
    "    w = w - eta * gradient_W(train, Train_truth, train_predicted.T)\n",
    "    w0 = w0 - eta * gradient_w0(Train_truth, train_predicted.T)\n",
    "\n",
    "    if np.sqrt(np.sum((w0 - w0_old)**2) + np.sum((w - w_old)**2)) < epsilon:\n",
    "        break\n",
    "\n",
    "    iteration = iteration + 1\n",
    "    \n",
    "#print(w, w0)\n",
    "print(iteration)"
   ]
  },
  {
   "cell_type": "markdown",
   "metadata": {},
   "source": [
    "## Plot the convergence"
   ]
  },
  {
   "cell_type": "code",
   "execution_count": 8,
   "metadata": {
    "scrolled": false
   },
   "outputs": [
    {
     "data": {
      "image/png": "[encoded data removed]",
      "text/plain": [
       "<matplotlib.figure.Figure at 0x7f2b4768ec88>"
      ]
     },
     "metadata": {},
     "output_type": "display_data"
    },
    {
     "name": "stdout",
     "output_type": "stream",
     "text": [
      "[[  9.99714169e-01   9.99975679e-01   9.99890771e-01   9.99813067e-01\n",
      "    9.99995334e-01   9.99995803e-01   9.99860263e-01   9.99977566e-01\n",
      "    9.99498342e-01   9.99827770e-01   9.99901087e-01   9.99996343e-01\n",
      "    9.98591208e-01   9.99272505e-01   9.99923325e-01   9.98986974e-01\n",
      "    9.99698567e-01   9.99431122e-01   9.98514890e-01   9.99393170e-01\n",
      "    9.99495033e-01   9.99900800e-01   9.99624776e-01   9.99923719e-01\n",
      "    9.99797390e-01   2.36956273e-06   4.83735415e-04   1.42872598e-05\n",
      "    1.04217624e-03   3.09556734e-05   1.15648074e-06   7.93440299e-06\n",
      "    5.38421238e-05   3.67042605e-04   5.65480379e-08   6.24163433e-06\n",
      "    3.12283813e-07   3.02812510e-04   6.03339323e-08   3.19136018e-05\n",
      "    5.77731296e-04   3.42466885e-07   5.89640050e-06   1.32929603e-04\n",
      "    8.69101249e-04   2.69661870e-04   4.93661120e-04   1.85158127e-05\n",
      "    6.30091350e-05   8.57716021e-05   1.98123456e-08   2.28173573e-09\n",
      "    8.07037394e-06   3.93318703e-08   2.75339476e-07   5.01533478e-07\n",
      "    1.10738486e-06   7.83314126e-08   5.00968143e-07   2.38061239e-08\n",
      "    3.36171665e-06   3.25839004e-08   3.71632394e-08   4.66740604e-07\n",
      "    1.08943761e-07   5.86237902e-08   2.54567448e-08   2.22198649e-05\n",
      "    6.44351751e-07   1.09636203e-06   8.44785758e-09   2.79712643e-08\n",
      "    1.86816314e-07   6.65190379e-08   3.58937077e-08   9.27442908e-07\n",
      "    3.21885103e-07   4.11484554e-05   1.51860175e-07   7.99646956e-05\n",
      "    3.16496255e-08   1.19526802e-05   6.12477509e-05   5.33738963e-08\n",
      "    5.03457797e-05   1.12317913e-06   2.20558328e-06   7.01566676e-04\n",
      "    1.46085730e-04   2.21197729e-06   4.26820410e-04   1.24108983e-04\n",
      "    1.05986962e-05   2.92684924e-07   3.14521142e-04   1.34890170e-05\n",
      "    1.05125011e-07   6.30000359e-04   4.28152210e-04   5.81220536e-05\n",
      "    4.95840193e-09   2.21595363e-06   2.22435158e-06   6.56264434e-07\n",
      "    1.34956666e-07   4.36847506e-09   2.98595161e-07   3.30161045e-05\n",
      "    4.67065471e-07   3.82719962e-05   8.18368569e-04   7.35228007e-07\n",
      "    6.22449040e-07   9.71274957e-06   1.36966669e-04   2.28842206e-08\n",
      "    1.78466283e-07   4.57702834e-07   2.77980481e-05   3.15390462e-09\n",
      "    4.16316641e-07   1.66102006e-06   7.82011726e-04   2.09685539e-07\n",
      "    6.40207474e-06]\n",
      " [  2.12777619e-04   4.05230362e-06   4.60091695e-04   3.23305138e-05\n",
      "    1.57573858e-11   1.03537076e-03   5.05499447e-07   1.12302416e-10\n",
      "    1.45709288e-04   1.72360451e-03   2.43225943e-05   1.11831559e-06\n",
      "    1.99961988e-05   9.13016162e-04   9.91635162e-04   1.00928074e-03\n",
      "    5.77624279e-05   1.27274121e-04   1.80005661e-03   6.03827992e-04\n",
      "    1.92476538e-08   1.14192087e-10   2.07802029e-10   2.49969198e-11\n",
      "    4.47786094e-10   9.99999913e-01   9.99999711e-01   9.98607891e-01\n",
      "    9.97254399e-01   9.99999881e-01   9.96746998e-01   9.98866026e-01\n",
      "    9.97880340e-01   9.98231582e-01   9.99619412e-01   9.99201606e-01\n",
      "    9.98306858e-01   9.97901765e-01   9.99998014e-01   9.99964099e-01\n",
      "    9.99800261e-01   9.99999980e-01   9.99687066e-01   9.99248686e-01\n",
      "    9.97232248e-01   9.96324287e-01   9.98368245e-01   9.99996202e-01\n",
      "    9.99675406e-01   9.99847974e-01   9.20936457e-12   1.02683860e-08\n",
      "    3.14528648e-03   4.50999432e-11   2.25588408e-05   8.17031365e-06\n",
      "    1.21735884e-07   3.05246028e-07   7.31594282e-05   6.46598987e-06\n",
      "    3.51974407e-08   1.76188864e-09   7.47595952e-06   1.94668162e-07\n",
      "    4.79169188e-07   2.18043421e-09   7.13655471e-07   3.93754387e-10\n",
      "    1.94803982e-10   3.12877177e-05   1.00242182e-04   2.41851053e-03\n",
      "    4.34715119e-09   6.09680834e-07   4.81485490e-07   8.67797084e-09\n",
      "    2.57677276e-07   3.89342109e-10   3.10514554e-06   3.03704314e-03\n",
      "    2.12120979e-07   1.10575881e-10   3.14314716e-08   1.43350187e-04\n",
      "    1.38190012e-03   3.40396035e-06   9.29686316e-04   8.92548174e-04\n",
      "    4.92528990e-07   9.28476133e-06   3.40773749e-07   3.03385861e-06\n",
      "    1.09578394e-04   7.71450730e-06   2.94256268e-03   9.46694639e-04\n",
      "    1.16931354e-08   1.68571806e-08   3.26452955e-04   8.00180847e-08\n",
      "    3.09782924e-04   4.83901941e-07   7.62389798e-07   2.53087854e-08\n",
      "    5.46279726e-04   1.50161145e-04   1.84049533e-04   8.64136200e-06\n",
      "    3.48837979e-09   1.61992084e-03   1.47431948e-11   1.44258692e-03\n",
      "    3.77103387e-07   4.39528387e-07   2.46336820e-10   1.17176029e-06\n",
      "    7.41060076e-04   7.28353770e-04   6.73620026e-08   1.65412648e-03\n",
      "    5.27774610e-06   3.00166190e-12   3.75092564e-07   2.57296099e-09\n",
      "    2.36227775e-06]\n",
      " [  1.50077094e-11   5.43589624e-10   8.87264773e-09   7.60289718e-11\n",
      "    4.42946196e-10   4.85715675e-09   2.07262426e-08   7.89443083e-09\n",
      "    7.18572193e-08   2.69410914e-10   3.80410275e-08   1.63425190e-09\n",
      "    4.96033481e-09   1.64618307e-05   2.80100742e-09   1.48062571e-05\n",
      "    5.14396845e-08   3.09296664e-09   2.33016257e-12   9.82554356e-07\n",
      "    1.58752742e-09   1.25304319e-06   4.21838810e-07   4.47705657e-11\n",
      "    7.43308742e-10   9.10020719e-07   5.76675216e-08   7.99821378e-09\n",
      "    5.86684610e-07   3.73087848e-06   4.96540782e-08   3.01227856e-05\n",
      "    6.38838297e-08   1.41220633e-08   8.03282045e-07   9.89972602e-08\n",
      "    1.77849941e-08   1.02084309e-05   1.84729181e-07   2.38933788e-06\n",
      "    1.60937048e-07   2.42942800e-08   3.11869283e-06   1.29969189e-09\n",
      "    1.57884525e-04   1.76781261e-06   4.55476167e-08   1.99649879e-04\n",
      "    7.52007781e-04   9.33481605e-08   9.99994721e-01   9.99783924e-01\n",
      "    9.96087487e-01   9.99982230e-01   9.99965289e-01   9.99959386e-01\n",
      "    9.99793116e-01   9.99985545e-01   9.99869333e-01   9.99484673e-01\n",
      "    9.99985988e-01   9.99996963e-01   9.98984392e-01   9.98376348e-01\n",
      "    9.97871139e-01   9.99992745e-01   9.99661965e-01   9.99952120e-01\n",
      "    9.99991081e-01   9.99491013e-01   9.98786651e-01   9.99365205e-01\n",
      "    9.99936715e-01   9.99865056e-01   9.98758755e-01   5.76317794e-09\n",
      "    8.30061747e-10   4.63716377e-09   7.08046075e-07   8.35629143e-05\n",
      "    2.11192655e-07   4.44881045e-04   1.42600010e-12   2.05281700e-03\n",
      "    8.20783734e-04   9.49553398e-06   1.03287930e-04   2.07056404e-08\n",
      "    3.78614892e-06   4.37125684e-05   2.00776111e-11   1.61197141e-04\n",
      "    1.29996953e-03   2.62347719e-06   9.29696440e-11   5.61920836e-07\n",
      "    2.79762007e-04   5.57917667e-07   6.30461486e-07   1.64928445e-07\n",
      "    1.54876223e-07   2.16880361e-04   6.98971493e-05   2.23638696e-05\n",
      "    1.20894049e-03   4.24779778e-04   8.35640271e-04   5.55886020e-04\n",
      "    1.23790062e-08   2.59373821e-06   1.17170110e-04   5.39462512e-08\n",
      "    3.67636467e-07   4.95702505e-05   1.67645976e-07   4.51945367e-04\n",
      "    3.39000475e-06   1.48488883e-07   4.17288356e-07   8.76033694e-04\n",
      "    3.34929650e-06   1.65023341e-04   9.66225336e-05   2.49447447e-08\n",
      "    1.72190142e-03]\n",
      " [  1.55694700e-04   1.55571324e-09   5.02030096e-07   1.20257660e-08\n",
      "    5.18824693e-05   2.09595589e-10   1.97787424e-03   2.49278935e-05\n",
      "    3.14124321e-04   3.50499317e-09   4.60430721e-08   2.99470512e-07\n",
      "    1.00550274e-03   3.48106875e-08   4.59833814e-10   7.99582158e-11\n",
      "    2.14707592e-09   7.30126981e-05   1.59592681e-07   4.41251350e-08\n",
      "    5.97011990e-04   9.78527211e-05   5.33469090e-04   5.11294256e-07\n",
      "    3.38723028e-05   7.28383654e-05   3.00376595e-05   9.27174712e-04\n",
      "    2.07513152e-07   5.22878446e-08   3.22833741e-04   5.30642700e-05\n",
      "    2.53959222e-05   3.16224393e-05   1.03242437e-03   6.50982052e-04\n",
      "    1.16747484e-03   5.87186183e-06   2.46917390e-06   1.00863461e-03\n",
      "    2.26645919e-08   2.16065478e-07   1.71308354e-05   1.95435133e-10\n",
      "    8.73627652e-08   1.17078377e-05   4.25006752e-05   1.53226724e-04\n",
      "    5.01905460e-07   7.50787621e-05   9.71839621e-08   2.93975010e-04\n",
      "    1.41363468e-05   4.07476367e-08   6.59018507e-04   4.00308410e-05\n",
      "    4.44894314e-06   7.54973958e-06   7.18424763e-06   1.35601381e-05\n",
      "    4.66498516e-07   3.42034221e-06   5.18709342e-05   1.25977264e-03\n",
      "    1.29900512e-03   8.45157113e-06   3.74280739e-05   1.37694705e-07\n",
      "    2.47808745e-06   1.74444939e-05   4.49672376e-04   4.81629367e-04\n",
      "    4.60471742e-07   6.65081404e-05   3.66169757e-04   9.99996153e-01\n",
      "    9.99999868e-01   9.99979249e-01   9.99983689e-01   9.97390109e-01\n",
      "    9.99999994e-01   9.99592181e-01   9.99917278e-01   9.98958513e-01\n",
      "    9.98442265e-01   9.99956278e-01   9.99864282e-01   9.99451643e-01\n",
      "    9.99980554e-01   9.97959062e-01   9.97998570e-01   9.99056579e-01\n",
      "    9.97932425e-01   9.99999913e-01   9.99999274e-01   9.98346339e-01\n",
      "    9.99999099e-01   9.99698217e-01   9.99846766e-01   9.99981984e-01\n",
      "    1.80994457e-06   1.65735004e-07   3.13960673e-10   2.46645085e-06\n",
      "    4.48582412e-06   6.68534690e-08   4.64105210e-10   3.48701360e-06\n",
      "    1.12547507e-06   5.00652044e-08   2.24896874e-07   5.98409403e-08\n",
      "    2.70707838e-09   3.05736032e-09   1.21878513e-08   2.28458805e-08\n",
      "    1.98348023e-09   1.45612501e-08   1.42121695e-05   1.92433515e-08\n",
      "    7.60621521e-08   7.14411147e-10   7.26511857e-04   7.72805955e-07\n",
      "    1.95112103e-08]\n",
      " [  4.77603180e-09   2.89874798e-08   9.67861745e-08   4.73181792e-09\n",
      "    9.71686755e-05   6.46368385e-10   5.07315372e-08   9.23497388e-14\n",
      "    1.48496194e-06   5.00970212e-06   8.00989213e-11   1.19143958e-11\n",
      "    5.12338837e-06   5.07679220e-06   7.95332351e-07   7.38937375e-04\n",
      "    2.62014345e-08   7.11043839e-10   2.53389423e-07   5.05267885e-05\n",
      "    5.44442658e-10   7.24981885e-04   1.73545077e-05   4.60284492e-10\n",
      "    1.13050856e-08   2.87977042e-07   6.94322695e-08   2.75928619e-04\n",
      "    1.89009442e-07   2.98194315e-06   8.33315967e-06   1.00055498e-06\n",
      "    1.43506945e-03   4.64999762e-05   1.18720975e-04   3.04052248e-11\n",
      "    8.48000570e-05   1.36923450e-03   1.03099232e-05   3.61107992e-04\n",
      "    4.68419045e-06   1.60314936e-05   2.05721235e-05   1.31560188e-05\n",
      "    7.22024498e-08   1.38836435e-03   2.98992687e-05   2.66927583e-10\n",
      "    2.10751281e-09   8.36899858e-06   1.10493138e-03   1.58153414e-04\n",
      "    1.37050225e-03   1.16140514e-03   1.41747221e-04   1.40175608e-04\n",
      "    1.30021137e-03   4.13607977e-07   2.91539661e-05   5.08776119e-04\n",
      "    5.24907160e-06   3.06989445e-08   1.73382862e-05   2.25905525e-03\n",
      "    9.55010127e-07   1.86388961e-07   2.70087894e-08   9.36155933e-05\n",
      "    2.00868238e-05   2.43432876e-05   1.90163579e-06   7.78577210e-05\n",
      "    1.79876016e-04   1.24210918e-05   3.57607062e-06   8.91555864e-11\n",
      "    7.20458533e-09   4.73676739e-11   1.02815952e-03   5.88048455e-05\n",
      "    9.26579404e-07   6.06416143e-10   3.60184744e-08   4.97659567e-07\n",
      "    7.29407360e-09   9.47746557e-10   2.11671278e-05   1.27871689e-06\n",
      "    1.42987259e-09   7.55574745e-06   2.23749904e-04   1.37078659e-08\n",
      "    1.71173606e-08   2.43356538e-11   1.16512154e-07   6.64674303e-07\n",
      "    8.97448335e-12   1.12344769e-09   6.18519241e-07   5.39434128e-12\n",
      "    9.99994685e-01   9.99998067e-01   9.99999910e-01   9.99771035e-01\n",
      "    9.98006060e-01   9.99943011e-01   9.99973363e-01   9.98611313e-01\n",
      "    9.99998530e-01   9.99927414e-01   9.99983751e-01   9.99992530e-01\n",
      "    9.99999980e-01   9.99999758e-01   9.99086918e-01   9.99926618e-01\n",
      "    9.99999933e-01   9.99999962e-01   9.99997641e-01   9.96814129e-01\n",
      "    9.99999951e-01   9.98220969e-01   9.97952842e-01   9.99999340e-01\n",
      "    9.98218886e-01]]\n"
     ]
    }
   ],
   "source": [
    "plt.figure(figsize = (10, 6))\n",
    "plt.plot(range(1, iteration + 1), objective_values, \"k-\")\n",
    "plt.xlabel(\"Iteration\")\n",
    "plt.ylabel(\"Error\")\n",
    "plt.show()\n",
    "print(train_predicted)"
   ]
  },
  {
   "cell_type": "markdown",
   "metadata": {},
   "source": [
    "## Training Performance"
   ]
  },
  {
   "cell_type": "code",
   "execution_count": 9,
   "metadata": {
    "scrolled": false
   },
   "outputs": [
    {
     "name": "stdout",
     "output_type": "stream",
     "text": [
      "train_truth   1   2   3   4   5\n",
      "train_pred                     \n",
      "1            25   0   0   0   0\n",
      "2             0  25   0   0   0\n",
      "3             0   0  25   0   0\n",
      "4             0   0   0  25   0\n",
      "5             0   0   0   0  25\n"
     ]
    }
   ],
   "source": [
    "# calculate confusion matrix for training points\n",
    "train_predicted = np.argmax(train_predicted, axis = 0) + 1\n",
    "confusion_matrix = pd.crosstab(train_predicted, train_truth+1, rownames = ['train_pred'], colnames = ['train_truth'])\n",
    "print(confusion_matrix)"
   ]
  },
  {
   "cell_type": "code",
   "execution_count": 10,
   "metadata": {},
   "outputs": [
    {
     "name": "stdout",
     "output_type": "stream",
     "text": [
      "test_truth   1   2   3   4   5\n",
      "test_pred                     \n",
      "1           14   0   0   0   0\n",
      "2            0  13   0   0   0\n",
      "3            0   0  14   0   0\n",
      "4            0   1   0  14   0\n",
      "5            0   0   0   0  14\n"
     ]
    }
   ],
   "source": [
    "# calculate confusion matrix for test points\n",
    "test_predicted = sigmoid(test,w,w0)\n",
    "test_predicted = np.argmax(test_predicted, axis = 0) + 1\n",
    "confusion_matrix = pd.crosstab(test_predicted, test_truth+1, rownames = ['test_pred'], colnames = ['test_truth'])\n",
    "print(confusion_matrix)"
   ]
  }
 ],
 "metadata": {
  "kernelspec": {
   "display_name": "Python 3",
   "language": "python",
   "name": "python3"
  },
  "language_info": {
   "codemirror_mode": {
    "name": "ipython",
    "version": 3
   },
   "file_extension": ".py",
   "mimetype": "text/x-python",
   "name": "python",
   "nbconvert_exporter": "python",
   "pygments_lexer": "ipython3",
   "version": "3.8.5"
  }
 },
 "nbformat": 4,
 "nbformat_minor": 2
}
