{
 "cells": [
  {
   "cell_type": "markdown",
   "metadata": {},
   "source": [
    "# HW3\n",
    "## İrem Şahin\n"
   ]
  },
  {
   "cell_type": "code",
   "execution_count": 1,
   "metadata": {},
   "outputs": [],
   "source": [
    "import matplotlib.pyplot as plt\n",
    "import numpy as np\n",
    "import pandas as pd\n",
    "import seaborn as sns; sns.set_theme()\n",
    "def safelog(x):\n",
    "    return(np.log(x + 1e-100))"
   ]
  },
  {
   "cell_type": "markdown",
   "metadata": {},
   "source": [
    "## Importing Data"
   ]
  },
  {
   "cell_type": "code",
   "execution_count": 2,
   "metadata": {},
   "outputs": [],
   "source": [
    "# read data into memory\n",
    "data_set = np.genfromtxt(\"hw03_data_set_images.csv\", delimiter = \",\")\n",
    "labels = (np.genfromtxt(\"hw03_data_set_labels.csv\", delimiter=\",\", dtype=str)).astype(str)\n",
    "\n",
    "\n",
    "# get number of classes and number of samples\n",
    "classes = np.unique(labels)\n",
    "K = len(classes)\n",
    "N = data_set.shape[0]\n",
    "\n",
    "# turn the ABCDE into 01234 to use it easier\n",
    "for i in range(N):\n",
    "    result = np.argwhere(classes==labels[i])\n",
    "    labels[i]=result[0][0]\n",
    "labels= labels.astype(np.int)\n",
    "\n",
    "# put first 25 points into training arrays and rest of the 14 points to test arrays\n",
    "train=[]\n",
    "test=[]\n",
    "train_truth=[]\n",
    "test_truth=[]\n",
    "for i in range(K):\n",
    "    for j in range(25):\n",
    "        train.append(data_set[j+ 39*i])\n",
    "        train_truth.append(labels[j+ 39*i])\n",
    "    for k in range(14):\n",
    "        test.append(data_set[25 +k+ 39*i])\n",
    "        test_truth.append(labels[25 +k+ 39*i])\n",
    "train=np.array(train)\n",
    "test=np.array(test)\n",
    "train_truth=np.array(train_truth)\n",
    "test_truth=np.array(test_truth)"
   ]
  },
  {
   "cell_type": "markdown",
   "metadata": {},
   "source": [
    "## Parameter estimation"
   ]
  },
  {
   "cell_type": "code",
   "execution_count": 3,
   "metadata": {},
   "outputs": [],
   "source": [
    "class_priors = [np.mean(train_truth == (c)) for c in range(K)]\n",
    "pcd = [np.mean(train[train_truth == (c)],axis=0) for c in range(K)]\n",
    "pcd = np.reshape(pcd,(5,320))"
   ]
  },
  {
   "cell_type": "markdown",
   "metadata": {},
   "source": [
    "## Plotting estimated images"
   ]
  },
  {
   "cell_type": "code",
   "execution_count": 4,
   "metadata": {},
   "outputs": [
    {
     "data": {
      "image/png": "[encoded data removed]",
      "text/plain": [
       "<Figure size 576x144 with 5 Axes>"
      ]
     },
     "metadata": {},
     "output_type": "display_data"
    }
   ],
   "source": [
    "fig = plt.figure(figsize=(8,2))\n",
    "for i in range(K):\n",
    "    plt.subplot(1,5,i+1)\n",
    "    sns.heatmap(pcd[i].reshape(16,20).T,cmap=plt.cm.binary, cbar=False,xticklabels=False,yticklabels=False)\n",
    "plt.show()"
   ]
  },
  {
   "cell_type": "markdown",
   "metadata": {},
   "source": [
    "## Define score function"
   ]
  },
  {
   "cell_type": "code",
   "execution_count": 5,
   "metadata": {},
   "outputs": [],
   "source": [
    "def score(train,pcd):\n",
    "    global K, class_priors\n",
    "    score = []\n",
    "    for i in range(train.shape[0]):\n",
    "        score.append([np.sum(train[i] * safelog(pcd[c] ) + (1-train[i]) * safelog(1-pcd[c]))  + safelog(class_priors[c]) for c in range(K)])\n",
    "    return np.array(score)"
   ]
  },
  {
   "cell_type": "markdown",
   "metadata": {},
   "source": [
    "## Confusion for train data "
   ]
  },
  {
   "cell_type": "code",
   "execution_count": 6,
   "metadata": {},
   "outputs": [
    {
     "name": "stdout",
     "output_type": "stream",
     "text": [
      "train_truth   1   2   3   4   5\n",
      "train_pred                     \n",
      "1            25   0   0   0   0\n",
      "2             0  24   1   0   1\n",
      "3             0   0  24   0   0\n",
      "4             0   1   0  25   0\n",
      "5             0   0   0   0  24\n"
     ]
    }
   ],
   "source": [
    "train_score =score(train,pcd)\n",
    "train_predicted = np.argmax(train_score, axis = 1)+1\n",
    "confusion_matrix = pd.crosstab(train_predicted, train_truth+1, rownames = ['train_pred'], colnames = ['train_truth'])\n",
    "print(confusion_matrix)"
   ]
  },
  {
   "cell_type": "markdown",
   "metadata": {},
   "source": [
    "## Confusion for test data"
   ]
  },
  {
   "cell_type": "code",
   "execution_count": 7,
   "metadata": {},
   "outputs": [
    {
     "name": "stdout",
     "output_type": "stream",
     "text": [
      "test_truth  1   2  3   4   5\n",
      "test_pred                   \n",
      "1           7   0  0   0   0\n",
      "2           0  11  3   2   4\n",
      "3           0   0  7   0   0\n",
      "4           7   3  3  12   0\n",
      "5           0   0  1   0  10\n"
     ]
    }
   ],
   "source": [
    "test_score = score(test,pcd)\n",
    "test_predicted = np.argmax(test_score, axis = 1)+1\n",
    "confusion_matrix = pd.crosstab(test_predicted, test_truth+1, rownames = ['test_pred'], colnames = ['test_truth'])\n",
    "print(confusion_matrix)"
   ]
  }
 ],
 "metadata": {
  "kernelspec": {
   "display_name": "Python 3",
   "language": "python",
   "name": "python3"
  },
  "language_info": {
   "codemirror_mode": {
    "name": "ipython",
    "version": 3
   },
   "file_extension": ".py",
   "mimetype": "text/x-python",
   "name": "python",
   "nbconvert_exporter": "python",
   "pygments_lexer": "ipython3",
   "version": "3.8.5"
  }
 },
 "nbformat": 4,
 "nbformat_minor": 4
}
