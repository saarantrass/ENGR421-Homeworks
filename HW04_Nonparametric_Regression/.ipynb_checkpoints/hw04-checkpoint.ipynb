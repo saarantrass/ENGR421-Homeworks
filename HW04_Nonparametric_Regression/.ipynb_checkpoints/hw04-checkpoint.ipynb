{
 "cells": [
  {
   "cell_type": "code",
   "execution_count": 1,
   "metadata": {},
   "outputs": [],
   "source": [
    "import matplotlib.pyplot as plt\n",
    "import numpy as np\n",
    "import math\n",
    "import scipy.stats as stats\n",
    "def safelog(x):\n",
    "    return(np.log(x + 1e-100))"
   ]
  },
  {
   "cell_type": "markdown",
   "metadata": {},
   "source": [
    "## Derive Data"
   ]
  },
  {
   "cell_type": "code",
   "execution_count": 2,
   "metadata": {},
   "outputs": [],
   "source": [
    "# read data into memory\n",
    "data_set = np.genfromtxt(\"hw04_data_set.csv\", delimiter = \",\")\n",
    "N = data_set.shape[0]-1\n",
    "x_all = sorted([p[1] for p in data_set[1::]])\n",
    "y_all = sorted([p[1] for p in data_set[1::]])\n",
    "\n",
    "bin_width = 3\n",
    "origin = 0\n",
    "\n",
    "# put first 100 points into training arrays and rest of the 33 points to test arrays\n",
    "train = np.array(data_set[1:101])\n",
    "x_train = ([p[0] for p in train])\n",
    "y_train = ([p[1] for p in train])\n",
    "\n",
    "test = np.array(data_set[101:134])\n",
    "x_test = ([p[0] for p in test])\n",
    "y_test = ([p[1] for p in test])\n",
    "\n",
    "\n",
    "train_mean = np.mean(train)\n",
    "test_mean = np.mean(test)\n",
    "\n",
    "K = max(y_train)\n",
    "\n",
    "min_x = min(x_all)\n",
    "max_x= max(x_all)\n",
    "\n",
    "\n",
    "minval=0\n",
    "maxval=60"
   ]
  },
  {
   "cell_type": "code",
   "execution_count": 3,
   "metadata": {
    "scrolled": true
   },
   "outputs": [
    {
     "data": {
      "text/plain": [
       "Text(0.5, 1.0, 'h=3')"
      ]
     },
     "execution_count": 3,
     "metadata": {},
     "output_type": "execute_result"
    },
    {
     "data": {
      "image/png": "[encoded data removed]",
      "text/plain": [
       "<Figure size 432x288 with 1 Axes>"
      ]
     },
     "metadata": {
      "needs_background": "light"
     },
     "output_type": "display_data"
    }
   ],
   "source": [
    "data_interval = np.arange(minval,maxval,0.001)\n",
    "left = np.arange(minval, maxval -bin_width, bin_width)\n",
    "right = np.arange(minval + bin_width, maxval, bin_width)\n",
    "\n",
    "p_hat=[]\n",
    "for a in range(len(left)):\n",
    "    part = (left[a] < x_train) & (x_train <= right[a])\n",
    "    p_hat.append(sum((part)*y_train)/ (np.sum(part)))\n",
    "p_hat=np.array(p_hat)\n",
    "\n",
    "\n",
    "plt.plot(x_train,y_train,'.b',label=\"train\")\n",
    "plt.plot(x_test,y_test,'.r',label=\"test\")\n",
    "for a in range(len(left)-1):\n",
    "    plt.plot([left[a], right[a]], [p_hat[a], p_hat[a]],color=\"black\" )\n",
    "    plt.plot([right[a], right[a]], [p_hat[a], p_hat[a + 1]], color=\"black\")  \n",
    "    \n",
    "#plots the last unplotted line\n",
    "plt.plot([left[::-1], right[::-1]], [p_hat[::-1], p_hat[::-1]],color=\"black\" )\n",
    "plt.legend(loc=\"upper left\")\n",
    "plt.title(\"h=3\")\n"
   ]
  },
  {
   "cell_type": "code",
   "execution_count": 7,
   "metadata": {},
   "outputs": [],
   "source": [
    "def rmse(p_hat, p_type):\n",
    "    rmse = 0 \n",
    "    if p_type == \"Regressogram\" :\n",
    "        for i in range (len(left)): \n",
    "            part = [(left[i] < x_test[a]) & (x_test[a] <= right[i]) for a in range (len(x_test))]\n",
    "            for truth in part:\n",
    "                if truth:\n",
    "                    difference = y_test[i] - p_hat[int((x_test[i])/bin_width)]\n",
    "                    rmse = rmse + difference*difference\n",
    "        \n",
    "        rmse = math.sqrt(rmse/len(x_test))\n",
    "        print(p_type ,\"RMSE is \",rmse,\" when h is\", bin_width)\n",
    "       \n",
    "    else:\n",
    "        for i in range (len(x_test)):\n",
    "            diff = y_test[i] - p_hat[(x_test[i]-minval)*1000+1]\n",
    "            rmse = rmse + diff*diff\n",
    "    \n",
    "        rmse = sqrt(rmse/length(x_test))\n",
    "        print(p_type ,\"RMSE is \",rmse,\" when h is\", bin_width)\n",
    "    return rmse\n",
    "  "
   ]
  },
  {
   "cell_type": "code",
   "execution_count": 8,
   "metadata": {},
   "outputs": [
    {
     "name": "stdout",
     "output_type": "stream",
     "text": [
      "Regressogram RMSE is  28.96065633310612  when h is 3\n"
     ]
    }
   ],
   "source": [
    "#calculate regressogram\n",
    "rmse1 = rmse(p_hat,\"Regressogram\")"
   ]
  },
  {
   "cell_type": "code",
   "execution_count": 9,
   "metadata": {},
   "outputs": [
    {
     "ename": "IndexError",
     "evalue": "only integers, slices (`:`), ellipsis (`...`), numpy.newaxis (`None`) and integer or boolean arrays are valid indices",
     "output_type": "error",
     "traceback": [
      "\u001b[1;31m---------------------------------------------------------------------------\u001b[0m",
      "\u001b[1;31mIndexError\u001b[0m                                Traceback (most recent call last)",
      "\u001b[1;32m<ipython-input-9-c315d7416a4a>\u001b[0m in \u001b[0;36m<module>\u001b[1;34m\u001b[0m\n\u001b[1;32m----> 1\u001b[1;33m \u001b[0mrmse2\u001b[0m \u001b[1;33m=\u001b[0m \u001b[0mrmse\u001b[0m\u001b[1;33m(\u001b[0m\u001b[0mp_hat\u001b[0m\u001b[1;33m,\u001b[0m\u001b[1;34m\"else\"\u001b[0m\u001b[1;33m)\u001b[0m\u001b[1;33m\u001b[0m\u001b[1;33m\u001b[0m\u001b[0m\n\u001b[0m",
      "\u001b[1;32m<ipython-input-7-056df53b40e4>\u001b[0m in \u001b[0;36mrmse\u001b[1;34m(p_hat, p_type)\u001b[0m\n\u001b[0;32m     14\u001b[0m     \u001b[1;32melse\u001b[0m\u001b[1;33m:\u001b[0m\u001b[1;33m\u001b[0m\u001b[1;33m\u001b[0m\u001b[0m\n\u001b[0;32m     15\u001b[0m         \u001b[1;32mfor\u001b[0m \u001b[0mi\u001b[0m \u001b[1;32min\u001b[0m \u001b[0mrange\u001b[0m \u001b[1;33m(\u001b[0m\u001b[1;36m0\u001b[0m\u001b[1;33m,\u001b[0m \u001b[0mlen\u001b[0m\u001b[1;33m(\u001b[0m\u001b[0mx_test\u001b[0m\u001b[1;33m)\u001b[0m\u001b[1;33m)\u001b[0m\u001b[1;33m:\u001b[0m\u001b[1;33m\u001b[0m\u001b[1;33m\u001b[0m\u001b[0m\n\u001b[1;32m---> 16\u001b[1;33m             \u001b[0mdiff\u001b[0m \u001b[1;33m=\u001b[0m \u001b[0my_test\u001b[0m\u001b[1;33m[\u001b[0m\u001b[0mi\u001b[0m\u001b[1;33m]\u001b[0m \u001b[1;33m-\u001b[0m \u001b[0mp_hat\u001b[0m\u001b[1;33m[\u001b[0m\u001b[1;33m(\u001b[0m\u001b[0mx_test\u001b[0m\u001b[1;33m[\u001b[0m\u001b[0mi\u001b[0m\u001b[1;33m]\u001b[0m\u001b[1;33m-\u001b[0m\u001b[0mminval\u001b[0m\u001b[1;33m)\u001b[0m\u001b[1;33m*\u001b[0m\u001b[1;36m1000\u001b[0m\u001b[1;33m+\u001b[0m\u001b[1;36m1\u001b[0m\u001b[1;33m]\u001b[0m\u001b[1;33m\u001b[0m\u001b[1;33m\u001b[0m\u001b[0m\n\u001b[0m\u001b[0;32m     17\u001b[0m             \u001b[0mrmse\u001b[0m \u001b[1;33m=\u001b[0m \u001b[0mrmse\u001b[0m \u001b[1;33m+\u001b[0m \u001b[0mdiff\u001b[0m\u001b[1;33m*\u001b[0m\u001b[0mdiff\u001b[0m\u001b[1;33m\u001b[0m\u001b[1;33m\u001b[0m\u001b[0m\n\u001b[0;32m     18\u001b[0m \u001b[1;33m\u001b[0m\u001b[0m\n",
      "\u001b[1;31mIndexError\u001b[0m: only integers, slices (`:`), ellipsis (`...`), numpy.newaxis (`None`) and integer or boolean arrays are valid indices"
     ]
    }
   ],
   "source": [
    "rmse2 = rmse(p_hat,\"else\")\n"
   ]
  },
  {
   "cell_type": "code",
   "execution_count": null,
   "metadata": {},
   "outputs": [],
   "source": [
    "p_hat = np.asarray([np.sum(1 / np.sqrt(2 * math.pi) * np.exp(-0.5 * (x - x_train)**2 / bin_width**2)) for x in data_interval]) / (N * bin_width)"
   ]
  }
 ],
 "metadata": {
  "kernelspec": {
   "display_name": "Python 3",
   "language": "python",
   "name": "python3"
  },
  "language_info": {
   "codemirror_mode": {
    "name": "ipython",
    "version": 3
   },
   "file_extension": ".py",
   "mimetype": "text/x-python",
   "name": "python",
   "nbconvert_exporter": "python",
   "pygments_lexer": "ipython3",
   "version": "3.8.5"
  }
 },
 "nbformat": 4,
 "nbformat_minor": 4
}
