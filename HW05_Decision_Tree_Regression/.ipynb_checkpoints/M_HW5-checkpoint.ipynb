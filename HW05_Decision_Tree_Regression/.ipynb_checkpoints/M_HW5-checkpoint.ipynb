{
 "cells": [
  {
   "cell_type": "code",
   "execution_count": 1,
   "metadata": {},
   "outputs": [],
   "source": [
    "import numpy as np\n",
    "import pandas as pd\n",
    "import matplotlib.pyplot as plt\n",
    "\n",
    "def safelog2(x):\n",
    "    if x == 0:\n",
    "        return (0)\n",
    "    else:\n",
    "        return (np.log2(x))"
   ]
  },
  {
   "cell_type": "markdown",
   "metadata": {},
   "source": [
    "## Importing Data"
   ]
  },
  {
   "cell_type": "code",
   "execution_count": 2,
   "metadata": {},
   "outputs": [],
   "source": [
    "# read data into memory\n",
    "data_set = np.array(pd.read_csv(\"hw04_data_set.csv\"))\n",
    "\n",
    "# get number of samples\n",
    "N = data_set.shape[0]"
   ]
  },
  {
   "cell_type": "markdown",
   "metadata": {},
   "source": [
    "## Data Separation ( Training- Test )"
   ]
  },
  {
   "cell_type": "code",
   "execution_count": 3,
   "metadata": {},
   "outputs": [],
   "source": [
    "train = data_set[:100]\n",
    "test = data_set[100:133]\n",
    "\n",
    "x_train = train[:,0]\n",
    "y_train = train[:,1]\n",
    "\n",
    "x_test = test[:,0]\n",
    "y_test =test[:,1]"
   ]
  },
  {
   "cell_type": "code",
   "execution_count": 4,
   "metadata": {},
   "outputs": [
    {
     "data": {
      "text/plain": [
       "[5, 6]"
      ]
     },
     "execution_count": 4,
     "metadata": {},
     "output_type": "execute_result"
    }
   ],
   "source": [
    "a = [5]\n",
    "a.append(6)\n",
    "a"
   ]
  },
  {
   "cell_type": "code",
   "execution_count": 5,
   "metadata": {},
   "outputs": [],
   "source": [
    "class tree_algo:\n",
    "\n",
    "    def __init(self,x_train,y_train,P):\n",
    "        self.x_train = x_train\n",
    "        self.y_train = y_train\n",
    "        self.P = P\n",
    "#         self.x_test= x_test\n",
    "#         self.y_test = y_test\n",
    "        \n",
    "    def train(self,x_train,y_train,P):\n",
    "        node_indices = {}\n",
    "        is_terminal = {}\n",
    "        need_split = {}\n",
    "        node_means = {}\n",
    "        node_splits = {}\n",
    "\n",
    "        # put all training instances into the root node\n",
    "        node_indices[1] = np.array(range(len(x_train)))\n",
    "        is_terminal[1] = False\n",
    "        need_split[1] = True\n",
    "        while 1:\n",
    "            # find nodes that need splitting\n",
    "            split_nodes = [key for key, value in need_split.items() if value == True]\n",
    "            if len(split_nodes) == 0:\n",
    "                break\n",
    "\n",
    "            # find best split positions for all nodes\n",
    "            for split_node in split_nodes:\n",
    "                data_indices = node_indices[split_node]\n",
    "                need_split[split_node] = False\n",
    "                node_mean = np.mean(y_train[data_indices])\n",
    "\n",
    "                if x_train[data_indices].size <=P:\n",
    "                    is_terminal[split_node] = True\n",
    "                    node_means[split_node] = node_mean\n",
    "\n",
    "                else:\n",
    "                    is_terminal[split_node] = False\n",
    "                    x_sorted = np.sort(np.unique(x_train[data_indices]))\n",
    "                    split_positions = (x_sorted[1:len(x_sorted)] +x_sorted[0:(len(x_sorted)-1)])/2\n",
    "                    split_scores = np.repeat(0.0,len(split_positions))\n",
    "\n",
    "                    for s in range(len(split_positions)):\n",
    "                        left_indices = data_indices[x_train[data_indices] < split_positions[s]]\n",
    "                        right_indices = data_indices[x_train[data_indices] >= split_positions[s]]\n",
    "                        total_err = 0\n",
    "                        if len(left_indices)>0:\n",
    "                            total_err += np.sum((y_train[left_indices] - np.mean(y_train[left_indices])) ** 2)\n",
    "                        if len(right_indices)>0:\n",
    "                            total_err += np.sum((y_train[right_indices] - np.mean(y_train[right_indices])) ** 2)\n",
    "                        split_scores[s] = total_err/(len(left_indices)+len(right_indices))\n",
    "\n",
    "                    if len(x_sorted) == 1 :\n",
    "                        is_terminal[split_node] = True\n",
    "                        node_means[split_node] = node_mean\n",
    "                        continue\n",
    "                    best_split = split_positions[np.argmin(split_scores)]\n",
    "                    node_splits[split_node] = best_split\n",
    "\n",
    "                    # create left node using the selected split\n",
    "                    left_indices = data_indices[(x_train[data_indices] < best_split)]\n",
    "                    node_indices[2 * split_node] =left_indices\n",
    "                    is_terminal[2 * split_node]  = False\n",
    "                    need_split[2 * split_node] = True\n",
    "\n",
    "                    # create right node using the selected split\n",
    "                    right_indices = data_indices[(x_train[data_indices] >= best_split)]\n",
    "                    node_indices[2 * split_node + 1] = right_indices\n",
    "                    is_terminal[2 * split_node + 1] = False\n",
    "                    need_split[2 * split_node + 1]  =True\n",
    "\n",
    "        \n",
    "        return node_splits,node_means,is_terminal\n",
    "\n",
    "\n",
    "def predict(x):\n",
    "#     node_splits,node_means,is_terminal = self.train(x_train,y_train,P)\n",
    "    index = 1 #start from root\n",
    "    while 1:\n",
    "        if is_terminal[index] == True:\n",
    "            return node_means[index]\n",
    "        if x > node_splits[index]:\n",
    "            index = index*2 + 1 #right child\n",
    "        else:\n",
    "            index = index*2 #left child"
   ]
  },
  {
   "cell_type": "code",
   "execution_count": 6,
   "metadata": {},
   "outputs": [],
   "source": [
    "myTree = tree_algo()\n",
    "node_splits,node_means,is_terminal = myTree.train(x_train,y_train,5)"
   ]
  },
  {
   "cell_type": "code",
   "execution_count": 7,
   "metadata": {},
   "outputs": [
    {
     "name": "stderr",
     "output_type": "stream",
     "text": [
      "100%|██████████| 60000/60000 [00:00<00:00, 371353.71it/s]\n"
     ]
    },
    {
     "data": {
      "image/png": "[encoded data removed]",
      "text/plain": [
       "<Figure size 576x216 with 1 Axes>"
      ]
     },
     "metadata": {
      "needs_background": "light"
     },
     "output_type": "display_data"
    }
   ],
   "source": [
    "from tqdm import tqdm\n",
    "P=15\n",
    "minval=0\n",
    "maxval=60\n",
    "\n",
    "pred = np.array([predict(x) for x in x_test])\n",
    "\n",
    "data_interval = np.arange(minval,maxval,0.001)\n",
    "fig = plt.figure(figsize=(8,3))\n",
    "plt.plot(x_train,y_train,\"b.\", alpha = 0.4, label=\"training\")\n",
    "plt.plot(x_test,y_test,\"r.\", alpha = 0.5, label=\"test\")\n",
    "p_hat=[]\n",
    "for i in tqdm(range(len(data_interval))):\n",
    "    p_hat.append(predict(data_interval[i]))\n",
    "\n",
    "plt.plot(data_interval,p_hat,color=\"black\",)\n",
    "plt.xlabel(\"x\")\n",
    "plt.ylabel(\"y\")\n",
    "plt.title(\"P=15\")\n",
    "plt.legend(loc=\"upper left\")\n",
    "plt.show()"
   ]
  },
  {
   "cell_type": "code",
   "execution_count": null,
   "metadata": {},
   "outputs": [],
   "source": []
  }
 ],
 "metadata": {
  "kernelspec": {
   "display_name": "Python 3",
   "language": "python",
   "name": "python3"
  },
  "language_info": {
   "codemirror_mode": {
    "name": "ipython",
    "version": 3
   },
   "file_extension": ".py",
   "mimetype": "text/x-python",
   "name": "python",
   "nbconvert_exporter": "python",
   "pygments_lexer": "ipython3",
   "version": "3.8.5"
  }
 },
 "nbformat": 4,
 "nbformat_minor": 4
}
