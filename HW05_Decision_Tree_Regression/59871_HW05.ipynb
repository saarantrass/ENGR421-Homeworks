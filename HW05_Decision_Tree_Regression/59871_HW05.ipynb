{
 "cells": [
  {
   "cell_type": "code",
   "execution_count": 1,
   "metadata": {},
   "outputs": [],
   "source": [
    "import matplotlib.pyplot as plt\n",
    "import numpy as np"
   ]
  },
  {
   "cell_type": "markdown",
   "metadata": {},
   "source": [
    "## Derive Data"
   ]
  },
  {
   "cell_type": "code",
   "execution_count": 2,
   "metadata": {},
   "outputs": [],
   "source": [
    "# read data into memory\n",
    "data_set = np.genfromtxt(\"hw05_data_set.csv\", delimiter = \",\")\n",
    "\n",
    "# put first 100 points into training arrays and rest of the 33 points to test arrays\n",
    "train = np.array(data_set[1:101])\n",
    "x_train = np.array([p[0] for p in train])\n",
    "y_train = np.array([p[1] for p in train])\n",
    "\n",
    "test = np.array(data_set[101:134])\n",
    "x_test = np.array([p[0] for p in test])\n",
    "y_test = np.array([p[1] for p in test])\n",
    "\n",
    "# For data interval in plotting\n",
    "minval=0\n",
    "maxval=60"
   ]
  },
  {
   "cell_type": "markdown",
   "metadata": {},
   "source": [
    "## Learning Algorithm"
   ]
  },
  {
   "cell_type": "markdown",
   "metadata": {},
   "source": [
    "## Prediction algorithm"
   ]
  },
  {
   "cell_type": "code",
   "execution_count": 3,
   "metadata": {},
   "outputs": [],
   "source": [
    "def tree(x_train,y_train,P):\n",
    "    # create necessary data structures\n",
    "    node_indices = {}\n",
    "    is_terminal = {}\n",
    "    need_split = {}\n",
    "    node_means = {}\n",
    "    node_splits = {}\n",
    "\n",
    "    # put all training instances into the root node\n",
    "    node_indices[1] = np.array(range(len(x_train)))\n",
    "    is_terminal[1] = False\n",
    "    need_split[1] = True\n",
    "    \n",
    "    while 1:\n",
    "        \n",
    "        # find nodes that need splitting\n",
    "        split_nodes = [key for key, value in need_split.items() if value == True]\n",
    "        if len(split_nodes) == 0:\n",
    "            break\n",
    "            \n",
    "        # find best split positions for all nodes\n",
    "        for split_node in split_nodes:\n",
    "            data_indices = node_indices[split_node]\n",
    "            need_split[split_node] = False\n",
    "            node_mean = np.mean(y_train[data_indices])\n",
    "            \n",
    "            #Pruning\n",
    "            if x_train[data_indices].size <=P:\n",
    "                is_terminal[split_node] = True\n",
    "                node_means[split_node] = node_mean\n",
    "                \n",
    "            else:\n",
    "                is_terminal[split_node] = False\n",
    "                x_sorted = np.sort(np.unique(x_train[data_indices]))\n",
    "                split_positions = (x_sorted[1:len(x_sorted)] +x_sorted[0:(len(x_sorted)-1)])/2\n",
    "                split_scores = np.repeat(0.0,len(split_positions))\n",
    "                \n",
    "                for s in range(len(split_positions)):\n",
    "                    left_indices = data_indices[x_train[data_indices] < split_positions[s]]\n",
    "                    right_indices = data_indices[x_train[data_indices] >= split_positions[s]]\n",
    "                    total_err = 0\n",
    "                    if len(left_indices)>0:\n",
    "                        total_err += np.sum((y_train[left_indices] - np.mean(y_train[left_indices])) ** 2)\n",
    "                    if len(right_indices)>0:\n",
    "                        total_err += np.sum((y_train[right_indices] - np.mean(y_train[right_indices])) ** 2)\n",
    "                    split_scores[s] = total_err/(len(left_indices)+len(right_indices))\n",
    "                    \n",
    "                #if len 1 is when we take unique values\n",
    "                if len(x_sorted) == 1 :\n",
    "                    is_terminal[split_node] = True\n",
    "                    node_means[split_node] = node_mean\n",
    "                    continue\n",
    "                best_split = split_positions[np.argmin(split_scores)]\n",
    "                node_splits[split_node] = best_split\n",
    "                \n",
    "                # create left node using the selected split\n",
    "                left_indices = data_indices[(x_train[data_indices] < best_split)]\n",
    "                node_indices[2 * split_node] =left_indices\n",
    "                is_terminal[2 * split_node]  = False\n",
    "                need_split[2 * split_node] = True\n",
    "\n",
    "                # create right node using the selected split\n",
    "                right_indices = data_indices[(x_train[data_indices] >= best_split)]\n",
    "                node_indices[2 * split_node + 1] = right_indices\n",
    "                is_terminal[2 * split_node + 1] = False\n",
    "                need_split[2 * split_node + 1]  =True\n",
    "    return node_splits,node_means,is_terminal"
   ]
  },
  {
   "cell_type": "markdown",
   "metadata": {},
   "source": [
    "## Prediction Definition"
   ]
  },
  {
   "cell_type": "code",
   "execution_count": 4,
   "metadata": {},
   "outputs": [],
   "source": [
    "def predict(x, node_splits, node_means, is_terminal):\n",
    "    index = 1 #start from root\n",
    "    while 1:\n",
    "        if is_terminal[index] == True:\n",
    "            return node_means[index]\n",
    "        if x > node_splits[index]:\n",
    "            index = index*2 + 1 #right child\n",
    "        else:\n",
    "            index = index*2 #left child"
   ]
  },
  {
   "cell_type": "markdown",
   "metadata": {},
   "source": [
    "## Plotting"
   ]
  },
  {
   "cell_type": "code",
   "execution_count": 5,
   "metadata": {
    "scrolled": true
   },
   "outputs": [
    {
     "data": {
      "image/png": "[encoded data removed]",
      "text/plain": [
       "<Figure size 1080x360 with 1 Axes>"
      ]
     },
     "metadata": {
      "needs_background": "light"
     },
     "output_type": "display_data"
    }
   ],
   "source": [
    "P=15\n",
    "node_splits,node_means,is_terminal = tree(x_train,y_train,P)\n",
    "pred = [predict(x,node_splits,node_means,is_terminal) for x in x_test]\n",
    "pred= np.array(pred)\n",
    "data_interval = np.arange(minval,maxval,0.001)\n",
    "fig = plt.figure(figsize=(15,5))\n",
    "plt.plot(x_train,y_train,\"b.\", alpha = 0.4, label=\"training\")\n",
    "plt.plot(x_test,y_test,\"r.\", alpha = 0.5, label=\"test\")\n",
    "int_plot=[]\n",
    "for i in range(len(data_interval)):\n",
    "    int_plot.append(predict(data_interval[i],node_splits,node_means,is_terminal))\n",
    "plt.plot(data_interval,int_plot,color=\"black\")\n",
    "plt.xlabel(\"x\")\n",
    "plt.ylabel(\"y\")\n",
    "plt.title(\"P=15\")\n",
    "plt.legend(loc=\"upper left\")\n",
    "plt.show()"
   ]
  },
  {
   "cell_type": "markdown",
   "metadata": {},
   "source": [
    "## Root Mean Squared Error"
   ]
  },
  {
   "cell_type": "code",
   "execution_count": 6,
   "metadata": {
    "scrolled": true
   },
   "outputs": [
    {
     "name": "stdout",
     "output_type": "stream",
     "text": [
      "RMSE is 26.87765508724891 when P is 15\n"
     ]
    }
   ],
   "source": [
    "def rmse(y_test,pred):\n",
    "    return np.sqrt(sum((y_test - pred) ** 2) / len(y_test))\n",
    "\n",
    "#calculate and print RMSE\n",
    "print(\"RMSE is\",rmse(y_test,pred),\"when P is\",  P)"
   ]
  },
  {
   "cell_type": "markdown",
   "metadata": {},
   "source": [
    "## Repeat for other P values and print RMSES"
   ]
  },
  {
   "cell_type": "code",
   "execution_count": 7,
   "metadata": {},
   "outputs": [
    {
     "data": {
      "image/png": "[encoded data removed]",
      "text/plain": [
       "<Figure size 1080x360 with 1 Axes>"
      ]
     },
     "metadata": {
      "needs_background": "light"
     },
     "output_type": "display_data"
    }
   ],
   "source": [
    "rmse_values = []\n",
    "for P in range(5,55,5):\n",
    "    node_splits,node_means,is_terminal = tree(x_train,y_train,P)\n",
    "    pred = np.array([predict(x,node_splits,node_means,is_terminal) for x in x_test])\n",
    "    rmse_values.append(rmse(y_test,pred))\n",
    "rmses = np.array(rmse_values)\n",
    "fig = plt.figure(figsize=(15,5))\n",
    "plt.plot(range(5,55,5),rmse_values,color= \"black\")\n",
    "plt.scatter(range(5,55,5),rmse_values,color= \"black\",linewidths=3) \n",
    "plt.xlabel(\"Pre-pruning size(P)\")\n",
    "plt.ylabel(\"RMSE\")\n",
    "plt.show()"
   ]
  },
  {
   "cell_type": "code",
   "execution_count": null,
   "metadata": {},
   "outputs": [],
   "source": []
  }
 ],
 "metadata": {
  "kernelspec": {
   "display_name": "Python 3",
   "language": "python",
   "name": "python3"
  },
  "language_info": {
   "codemirror_mode": {
    "name": "ipython",
    "version": 3
   },
   "file_extension": ".py",
   "mimetype": "text/x-python",
   "name": "python",
   "nbconvert_exporter": "python",
   "pygments_lexer": "ipython3",
   "version": "3.8.5"
  }
 },
 "nbformat": 4,
 "nbformat_minor": 4
}
